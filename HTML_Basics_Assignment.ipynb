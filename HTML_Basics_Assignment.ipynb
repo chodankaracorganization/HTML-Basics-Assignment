{
  "nbformat": 4,
  "nbformat_minor": 0,
  "metadata": {
    "colab": {
      "provenance": []
    },
    "kernelspec": {
      "name": "python3",
      "display_name": "Python 3"
    },
    "language_info": {
      "name": "python"
    }
  },
  "cells": [
    {
      "cell_type": "markdown",
      "source": [
        "# HTML Basics Assignment\n"
      ],
      "metadata": {
        "id": "jt7ZupnPKJbD"
      }
    },
    {
      "cell_type": "markdown",
      "source": [
        "1.Write a simple program in HTML that displays the heading \"HTML defines the content and structure of your website” on the web browser?"
      ],
      "metadata": {
        "id": "2WMkmbksKP5-"
      }
    },
    {
      "cell_type": "code",
      "execution_count": null,
      "metadata": {
        "id": "x6q9jut1JJd8"
      },
      "outputs": [],
      "source": [
        "- <!DOCTYPE html>\n",
        "<html lang=\"en\">\n",
        "<head>\n",
        "    <meta charset=\"UTF-8\">\n",
        "    <meta name=\"viewport\" content=\"width=device-width, initial-scale=1.0\">\n",
        "    <title>Document</title>\n",
        "</head>\n",
        "<body>\n",
        "    <h1>HTML defines the content and structure of\n",
        "        your website</h1>\n",
        "</body>\n",
        "</html>"
      ]
    },
    {
      "cell_type": "markdown",
      "source": [
        "2.Explain the purpose of comments in HTML and provide an example of how to use comments in an HTML\n",
        "document?"
      ],
      "metadata": {
        "id": "QRDZre2cKoAm"
      }
    },
    {
      "cell_type": "markdown",
      "source": [
        "- Comments in HTML are mainly provided for documentation purposes so that reader of the code should understand the code properly.The code should be self explanatory however it is standard practise to add comments wherever necessary in the code."
      ],
      "metadata": {
        "id": "1myExFF5K9ec"
      }
    },
    {
      "cell_type": "code",
      "source": [
        "e.g. <!-- This is the HTML comment. -->"
      ],
      "metadata": {
        "id": "MiuE7_fyLddv"
      },
      "execution_count": null,
      "outputs": []
    },
    {
      "cell_type": "markdown",
      "source": [
        "3.Write an HTML program that includes a heading, a paragraph of text, a horizontal line, and a line break.Arrange these elements to create a simple web page layout."
      ],
      "metadata": {
        "id": "3fHj2kJhLsk5"
      }
    },
    {
      "cell_type": "code",
      "source": [
        "<!DOCTYPE html>\n",
        "<html lang=\"en\">\n",
        "<head>\n",
        "    <meta charset=\"UTF-8\">\n",
        "    <meta name=\"viewport\" content=\"width=device-width, initial-scale=1.0\">\n",
        "    <title>Document</title>\n",
        "</head>\n",
        "<body>\n",
        "    <h1>Importance of Democracy</h1>\n",
        "\n",
        "    <p>Lorem ipsum dolor sit amet consectetur adipisicing elit.<br/> Veritatis, incidunt natus qui alias error dolore sed quam, eveniet facere vero eum voluptatem repellendus repellat nostrum repudiandae quia atque earum sit!</p>\n",
        "    <hr/>\n",
        "    <p>Lorem ipsum dolor sit amet consectetur adipisicing elit.<br/> Beatae illum maxime earum praesentium doloribus, esse accusantium ipsum minus, eum sequi vel. Voluptas facere eum qui ipsum aperiam provident culpa atque.</p>\n",
        "</body>\n",
        "</html>"
      ],
      "metadata": {
        "id": "HbTsQBWJMnYW"
      },
      "execution_count": null,
      "outputs": []
    },
    {
      "cell_type": "markdown",
      "source": [
        "4.Write a short note on Tag and element with an example?"
      ],
      "metadata": {
        "id": "iNNiB4mIOja3"
      }
    },
    {
      "cell_type": "markdown",
      "source": [
        "In HTML, tags and elements are used to create the structure of a webpage. Here's a simple explanation:\n",
        "\n",
        "    Tag:\n",
        "\n",
        "        A tag is a keyword enclosed in angle brackets (< >).\n",
        "\n",
        "        It defines the start and end of an HTML element.\n",
        "\n",
        "        Tags usually come in pairs: an opening tag (<tag>) and a closing tag (</tag>).\n",
        "\n",
        "        Example: <p> is the opening tag for a paragraph, and </p> is the closing tag.\n",
        "\n",
        "    Element:\n",
        "\n",
        "        An element consists of an opening tag, content, and a closing tag.\n",
        "\n",
        "        It represents a complete unit of content on a webpage.\n",
        "\n",
        "        Example: <p>This is a paragraph.</p> is a paragraph element.\n"
      ],
      "metadata": {
        "id": "Yd4fdMeRbF_V"
      }
    },
    {
      "cell_type": "markdown",
      "source": [
        "5.What is the DOCTYPE Declaration in HTML?"
      ],
      "metadata": {
        "id": "7t1lkIC-cTrY"
      }
    },
    {
      "cell_type": "markdown",
      "source": [
        "The DOCTYPE declaration is a statement at the beginning of an HTML document that tells the web browser which version of HTML the page is written in. It ensures the browser renders the page correctly by following the right standards.\n",
        "\n",
        "   - It is written as <!DOCTYPE html> for HTML5 (the latest version).\n",
        "\n",
        "   - It is not an HTML tag but an instruction to the browser.\n",
        "\n",
        "   - Placed at the very top of the HTML document, before the <html> tag."
      ],
      "metadata": {
        "id": "fvgsU1gicXfT"
      }
    },
    {
      "cell_type": "markdown",
      "source": [],
      "metadata": {
        "id": "026Z13ZfgoaD"
      }
    },
    {
      "cell_type": "code",
      "source": [
        "<!DOCTYPE html>\n",
        "<html>\n",
        "  <head>\n",
        "    <title>My Webpage</title>\n",
        "  </head>\n",
        "  <body>\n",
        "    <p>Hello, World!</p>\n",
        "  </body>\n",
        "</html>"
      ],
      "metadata": {
        "id": "BJ8Qw0YXdyF6"
      },
      "execution_count": null,
      "outputs": []
    }
  ]
}